{
 "cells": [
  {
   "cell_type": "markdown",
   "id": "9b63f6ba-3d36-4bce-b4b5-2726c7c6f792",
   "metadata": {},
   "source": [
    "# Backtest Analysis"
   ]
  },
  {
   "cell_type": "code",
   "execution_count": null,
   "id": "essential-johns",
   "metadata": {
    "tags": []
   },
   "outputs": [],
   "source": [
    "import os\n",
    "from datetime import datetime\n",
    "import pandas as pd\n",
    "import numpy as np\n",
    "pd.options.display.float_format = '{:,.2f}'.format\n",
    "\n",
    "import matplotlib as mpl\n",
    "import matplotlib.pyplot as plt\n",
    "\n",
    "import plotly.graph_objects as go\n",
    "import plotly.express as px\n",
    "from plotly.subplots import make_subplots\n",
    "\n",
    "%matplotlib widget\n",
    "# inline is the old interface"
   ]
  },
  {
   "cell_type": "code",
   "execution_count": null,
   "id": "8d336f76-981b-4eff-85a7-6e65a7445c03",
   "metadata": {},
   "outputs": [],
   "source": [
    "ticker = 'ANET'"
   ]
  },
  {
   "cell_type": "code",
   "execution_count": null,
   "id": "ee7a0f1c-e543-428e-b215-11bcf3c8a4df",
   "metadata": {
    "tags": []
   },
   "outputs": [],
   "source": [
    "# import pandas_datareader as pdr\n",
    "# import os\n",
    "# from datetime import date \n",
    "\n",
    "# if not os.path.exists(os.path.join(r'../md/daily',f'{ticker}.csv')):\n",
    "#     df = pdr.DataReader(ticker, 'yahoo', start='2012-01-01', end=date.today().isoformat())\n",
    "#     df.to_csv(os.path.join(r'../md/daily',f'{ticker}.csv'))"
   ]
  },
  {
   "cell_type": "markdown",
   "id": "c7d13307-e8a1-4eef-8467-7ddb84384e36",
   "metadata": {},
   "source": [
    "### Run backtest"
   ]
  },
  {
   "cell_type": "code",
   "execution_count": null,
   "id": "2e72fa35-b1da-4779-b5d3-0ffcd84cf0f0",
   "metadata": {
    "tags": []
   },
   "outputs": [],
   "source": [
    "import backfire as bf\n",
    "\n",
    "s = bf.BuyAndHoldStrategy(\n",
    "    env=bf.Environment(md=r\"../md/daily\", out_dir=r\"./out_test\")) \n",
    "\n",
    "s.backtest(ticker=ticker, from_date=\"2015-01-01\")\n",
    "\n",
    "label = \"SDS_signal=BuyAndHold_sl=1.0_tp=1000_pos=fixed\"\n",
    "print(\"backtest done\")"
   ]
  },
  {
   "cell_type": "code",
   "execution_count": null,
   "id": "be5a1013-3124-4458-91cf-27b9a18bc3b0",
   "metadata": {
    "tags": []
   },
   "outputs": [],
   "source": [
    "import backfire as bf\n",
    "\n",
    "env = bf.Environment(md=r\"../md/daily\", out_dir=r\"./out_test\")\n",
    "signal = bf.Stage2Signal()\n",
    "# set very large tp effectively disabling it\n",
    "s = bf.SignalDrivenStrategy(\n",
    "    env=env,\n",
    "    signal=signal,\n",
    "    sl=0.07, tp=5.0)\n",
    "\n",
    "s.backtest(ticker=ticker, from_date=\"2015-01-01\")\n",
    "\n",
    "print(\"backtest done\")"
   ]
  },
  {
   "cell_type": "code",
   "execution_count": null,
   "id": "dadf7786-426c-4796-a97e-f7221f548bbf",
   "metadata": {},
   "outputs": [],
   "source": [
    "label = \"SDS_signal=flatbase20_0.10_sl=0.07_tp=0.2_pos=fixed\"\n",
    "label = \"SDS_signal=Stage2_rise200dlength=1_rise200dstep=0.01_sl=0.07_tp=5.0_pos=fixed\""
   ]
  },
  {
   "cell_type": "markdown",
   "id": "85d1f1c7-0e51-4a2b-8f86-199c81199922",
   "metadata": {},
   "source": [
    "### Visualize signals and positions"
   ]
  },
  {
   "cell_type": "code",
   "execution_count": null,
   "id": "a1da4a2f-6f02-4c35-8f9b-f799ec9e63e2",
   "metadata": {
    "tags": []
   },
   "outputs": [],
   "source": [
    "df = pd.read_csv(os.path.join(r\"./out_test\", f\"pos_{ticker}_{label}.csv\"),index_col=0,parse_dates=True)\n",
    "df['50dSMA'] = df.C.rolling(50, min_periods=20).mean()\n",
    "df['200dSMA'] = df.C.rolling(200,min_periods=100).mean()"
   ]
  },
  {
   "cell_type": "code",
   "execution_count": null,
   "id": "743c05d1-9a50-49fd-b7ee-a80653dcbbd0",
   "metadata": {},
   "outputs": [],
   "source": [
    "# from_to = ['2020-05-01', '2021-03-01']\n",
    "# from_to = [datetime.strptime(x, \"%Y-%m-%d\").date() for x in from_to]\n",
    "# df = df.loc[from_to[0]:from_to[1]]"
   ]
  },
  {
   "cell_type": "code",
   "execution_count": null,
   "id": "95ba11bd-334e-4051-8081-c77b18ef1a3c",
   "metadata": {},
   "outputs": [],
   "source": [
    "fig = make_subplots(specs=[[{\"secondary_y\":True}]])\n",
    "\n",
    "fig.add_trace(go.Ohlc(\n",
    "    name=\"price\",\n",
    "    x=df.index, open=df.O, high=df.H, low=df.L, close=df.C,\n",
    "    xhoverformat='%Y-%m-%d'),secondary_y = False)\n",
    "fig.add_trace(go.Scatter(name=\"ma50\",x=df.index,y=df[\"50dSMA\"],line={'color': 'red', 'width': 1}),secondary_y=False)\n",
    "fig.add_trace(go.Scatter(name=\"ma200\",x=df.index,y=df[\"200dSMA\"],line={'color': 'black', 'width': 1}),secondary_y=False)\n",
    "\n",
    "# fig.add_trace(go.Scatter(x = df.index,y = df.pos,name=\"pos\", line_color = 'grey',mode='lines',\n",
    "#                          line={'dash':'dash'},marker_line_width=1,opacity=0),secondary_y = True)\n",
    "\n",
    "fig.add_trace(go.Scatter(name=signal.name,x=df.index,y=df.es,line_color='cyan',mode='lines',line={'dash':'dash'},marker_line_width=1,opacity=0.4),secondary_y = False)\n",
    "\n",
    "\n",
    "fig.update_layout(autosize=False, \n",
    "                  width=1500,\n",
    "                  height=800,\n",
    "                  title=\"\",\n",
    "                  yaxis_title=\"Price\",\n",
    "                  xaxis_rangeslider_visible=False,\n",
    "                  showlegend=False,\n",
    "                 hovermode='x unified')\n",
    "fig.show()"
   ]
  },
  {
   "cell_type": "markdown",
   "id": "851d29cf-1514-487a-92ba-649ac026aa6c",
   "metadata": {},
   "source": [
    "### Trades"
   ]
  },
  {
   "cell_type": "code",
   "execution_count": null,
   "id": "smoking-validity",
   "metadata": {
    "tags": []
   },
   "outputs": [],
   "source": [
    "trades = pd.read_csv(os.path.join(r'./out_test',f'trades_{ticker}_{label}.csv'),index_col=0,header=0)\n",
    "trades"
   ]
  },
  {
   "cell_type": "markdown",
   "id": "5ceb0dbe-a230-41c3-9b4b-290f266d6566",
   "metadata": {},
   "source": [
    "### Stats"
   ]
  },
  {
   "cell_type": "code",
   "execution_count": null,
   "id": "05398b01-c78e-43af-993a-ceb1f9307566",
   "metadata": {
    "tags": []
   },
   "outputs": [],
   "source": [
    "trades = pd.read_csv(os.path.join(r'./out_test',f'stats_{ticker}_{label}.csv'),index_col=0,header=0)\n",
    "trades"
   ]
  }
 ],
 "metadata": {
  "kernelspec": {
   "display_name": "Python 3 (ipykernel)",
   "language": "python",
   "name": "python3"
  },
  "language_info": {
   "codemirror_mode": {
    "name": "ipython",
    "version": 3
   },
   "file_extension": ".py",
   "mimetype": "text/x-python",
   "name": "python",
   "nbconvert_exporter": "python",
   "pygments_lexer": "ipython3",
   "version": "3.9.10"
  }
 },
 "nbformat": 4,
 "nbformat_minor": 5
}
